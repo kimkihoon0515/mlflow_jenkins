{
 "cells": [
  {
   "cell_type": "code",
   "execution_count": 10,
   "metadata": {},
   "outputs": [],
   "source": [
    "from mlflow.tracking import MlflowClient\n",
    "client = MlflowClient(tracking_uri='http://13.125.54.121:5000')"
   ]
  },
  {
   "cell_type": "code",
   "execution_count": 11,
   "metadata": {},
   "outputs": [
    {
     "name": "stdout",
     "output_type": "stream",
     "text": [
      "basic_model 2\n"
     ]
    }
   ],
   "source": [
    "models = client.get_latest_versions('basic_model',stages=['Production'])\n",
    "\n",
    "version = 0\n",
    "for mv in models:\n",
    "    name = mv.name\n",
    "    version = mv.version\n",
    "\n",
    "print(name,version)\n",
    "\n"
   ]
  },
  {
   "cell_type": "code",
   "execution_count": 25,
   "metadata": {},
   "outputs": [],
   "source": [
    "import pymysql\n",
    "\n",
    "conn = pymysql.connect(host=\"13.125.54.121\",port=3306,user=\"root\",password=\"password\",db=\"bento\",charset=\"utf8\")\n",
    "cur = conn.cursor()\n",
    "\n",
    "def check(name):\n",
    "    s = f\"SELECT version FROM bento.serving where name = '{name}'\"\n",
    "    try:\n",
    "        cur.execute(s)\n",
    "\n",
    "        data = cur.fetchone()\n",
    "        v = data[0]\n",
    "        return v\n",
    "    except:\n",
    "        return False\n",
    "\n",
    "def insert(name,version):\n",
    "    s = f\"INSERT INTO bento.serving VALUES ('{name}',{version})\"\n",
    "    cur.execute(s)"
   ]
  },
  {
   "cell_type": "code",
   "execution_count": 32,
   "metadata": {},
   "outputs": [
    {
     "name": "stdout",
     "output_type": "stream",
     "text": [
      "2\n"
     ]
    }
   ],
   "source": [
    "if not check(name):\n",
    "    insert(name,version)\n",
    "else:\n",
    "    print(check(name))"
   ]
  },
  {
   "cell_type": "code",
   "execution_count": 33,
   "metadata": {},
   "outputs": [],
   "source": [
    "uri = client.get_model_version_download_uri('basic_model',3)"
   ]
  },
  {
   "cell_type": "code",
   "execution_count": 34,
   "metadata": {},
   "outputs": [
    {
     "data": {
      "text/plain": [
       "'s3://sojt/1/94406926f6c74dff9ff2e1fc048c6f07/artifacts/best_model'"
      ]
     },
     "execution_count": 34,
     "metadata": {},
     "output_type": "execute_result"
    }
   ],
   "source": [
    "uri"
   ]
  }
 ],
 "metadata": {
  "kernelspec": {
   "display_name": "Python 3.10.8 ('project')",
   "language": "python",
   "name": "python3"
  },
  "language_info": {
   "codemirror_mode": {
    "name": "ipython",
    "version": 3
   },
   "file_extension": ".py",
   "mimetype": "text/x-python",
   "name": "python",
   "nbconvert_exporter": "python",
   "pygments_lexer": "ipython3",
   "version": "3.10.8"
  },
  "orig_nbformat": 4,
  "vscode": {
   "interpreter": {
    "hash": "e92592b4eaa76bb7d7a67f27dfa37bf132ea56c427c959b169044bc8ef4a2469"
   }
  }
 },
 "nbformat": 4,
 "nbformat_minor": 2
}
